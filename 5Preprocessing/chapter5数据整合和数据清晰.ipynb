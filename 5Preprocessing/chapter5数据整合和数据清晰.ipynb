{
 "cells": [
  {
   "cell_type": "markdown",
   "metadata": {},
   "source": [
    "# pivot_table melt"
   ]
  },
  {
   "cell_type": "code",
   "execution_count": 1,
   "metadata": {
    "ExecuteTime": {
     "end_time": "2019-04-24T07:52:51.245290Z",
     "start_time": "2019-04-24T07:52:51.233322Z"
    }
   },
   "outputs": [
    {
     "data": {
      "text/html": [
       "<div>\n",
       "<style scoped>\n",
       "    .dataframe tbody tr th:only-of-type {\n",
       "        vertical-align: middle;\n",
       "    }\n",
       "\n",
       "    .dataframe tbody tr th {\n",
       "        vertical-align: top;\n",
       "    }\n",
       "\n",
       "    .dataframe thead th {\n",
       "        text-align: right;\n",
       "    }\n",
       "</style>\n",
       "<table border=\"1\" class=\"dataframe\">\n",
       "  <thead>\n",
       "    <tr style=\"text-align: right;\">\n",
       "      <th></th>\n",
       "      <th>cust_id</th>\n",
       "      <th>type</th>\n",
       "      <th>monetary</th>\n",
       "    </tr>\n",
       "  </thead>\n",
       "  <tbody>\n",
       "    <tr>\n",
       "      <th>0</th>\n",
       "      <td>10001</td>\n",
       "      <td>normal</td>\n",
       "      <td>3608</td>\n",
       "    </tr>\n",
       "    <tr>\n",
       "      <th>1</th>\n",
       "      <td>10001</td>\n",
       "      <td>special_offer</td>\n",
       "      <td>420</td>\n",
       "    </tr>\n",
       "    <tr>\n",
       "      <th>2</th>\n",
       "      <td>10002</td>\n",
       "      <td>normal</td>\n",
       "      <td>1894</td>\n",
       "    </tr>\n",
       "    <tr>\n",
       "      <th>3</th>\n",
       "      <td>10002</td>\n",
       "      <td>special_offer</td>\n",
       "      <td>3503</td>\n",
       "    </tr>\n",
       "    <tr>\n",
       "      <th>4</th>\n",
       "      <td>10003</td>\n",
       "      <td>special_offer</td>\n",
       "      <td>4567</td>\n",
       "    </tr>\n",
       "  </tbody>\n",
       "</table>\n",
       "</div>"
      ],
      "text/plain": [
       "   cust_id           type  monetary\n",
       "0    10001         normal      3608\n",
       "1    10001  special_offer       420\n",
       "2    10002         normal      1894\n",
       "3    10002  special_offer      3503\n",
       "4    10003  special_offer      4567"
      ]
     },
     "execution_count": 1,
     "metadata": {},
     "output_type": "execute_result"
    }
   ],
   "source": [
    "table = DataFrame({'cust_id':[10001,10001,10002,10002,10003],\n",
    "                  'type':['normal','special_offer','normal','special_offer','special_offer'],\n",
    "                  'monetary':[3608,420,1894,3503,4567]})\n",
    "table"
   ]
  },
  {
   "cell_type": "code",
   "execution_count": 2,
   "metadata": {
    "ExecuteTime": {
     "end_time": "2019-04-24T07:52:51.272246Z",
     "start_time": "2019-04-24T07:52:51.246287Z"
    }
   },
   "outputs": [
    {
     "data": {
      "text/html": [
       "<div>\n",
       "<style scoped>\n",
       "    .dataframe tbody tr th:only-of-type {\n",
       "        vertical-align: middle;\n",
       "    }\n",
       "\n",
       "    .dataframe tbody tr th {\n",
       "        vertical-align: top;\n",
       "    }\n",
       "\n",
       "    .dataframe thead th {\n",
       "        text-align: right;\n",
       "    }\n",
       "</style>\n",
       "<table border=\"1\" class=\"dataframe\">\n",
       "  <thead>\n",
       "    <tr style=\"text-align: right;\">\n",
       "      <th>type</th>\n",
       "      <th>cust_id</th>\n",
       "      <th>normal</th>\n",
       "      <th>special_offer</th>\n",
       "    </tr>\n",
       "  </thead>\n",
       "  <tbody>\n",
       "    <tr>\n",
       "      <th>0</th>\n",
       "      <td>10001</td>\n",
       "      <td>3608</td>\n",
       "      <td>420</td>\n",
       "    </tr>\n",
       "    <tr>\n",
       "      <th>1</th>\n",
       "      <td>10002</td>\n",
       "      <td>1894</td>\n",
       "      <td>3503</td>\n",
       "    </tr>\n",
       "    <tr>\n",
       "      <th>2</th>\n",
       "      <td>10003</td>\n",
       "      <td>0</td>\n",
       "      <td>4567</td>\n",
       "    </tr>\n",
       "  </tbody>\n",
       "</table>\n",
       "</div>"
      ],
      "text/plain": [
       "type  cust_id  normal  special_offer\n",
       "0       10001    3608            420\n",
       "1       10002    1894           3503\n",
       "2       10003       0           4567"
      ]
     },
     "execution_count": 2,
     "metadata": {},
     "output_type": "execute_result"
    }
   ],
   "source": [
    "table1 = table.pivot_table(values='monetary',index='cust_id',columns='type',aggfunc='sum',fill_value=0)\n",
    "table1.reset_index()"
   ]
  },
  {
   "cell_type": "code",
   "execution_count": 3,
   "metadata": {
    "ExecuteTime": {
     "end_time": "2019-04-24T07:52:51.291168Z",
     "start_time": "2019-04-24T07:52:51.274212Z"
    }
   },
   "outputs": [
    {
     "data": {
      "text/html": [
       "<div>\n",
       "<style scoped>\n",
       "    .dataframe tbody tr th:only-of-type {\n",
       "        vertical-align: middle;\n",
       "    }\n",
       "\n",
       "    .dataframe tbody tr th {\n",
       "        vertical-align: top;\n",
       "    }\n",
       "\n",
       "    .dataframe thead th {\n",
       "        text-align: right;\n",
       "    }\n",
       "</style>\n",
       "<table border=\"1\" class=\"dataframe\">\n",
       "  <thead>\n",
       "    <tr style=\"text-align: right;\">\n",
       "      <th></th>\n",
       "      <th>cust_id</th>\n",
       "      <th>type</th>\n",
       "      <th>monetary</th>\n",
       "    </tr>\n",
       "  </thead>\n",
       "  <tbody>\n",
       "    <tr>\n",
       "      <th>0</th>\n",
       "      <td>10001</td>\n",
       "      <td>normal</td>\n",
       "      <td>3608</td>\n",
       "    </tr>\n",
       "    <tr>\n",
       "      <th>1</th>\n",
       "      <td>10002</td>\n",
       "      <td>normal</td>\n",
       "      <td>1894</td>\n",
       "    </tr>\n",
       "    <tr>\n",
       "      <th>2</th>\n",
       "      <td>10003</td>\n",
       "      <td>normal</td>\n",
       "      <td>0</td>\n",
       "    </tr>\n",
       "    <tr>\n",
       "      <th>3</th>\n",
       "      <td>10001</td>\n",
       "      <td>special_offer</td>\n",
       "      <td>420</td>\n",
       "    </tr>\n",
       "    <tr>\n",
       "      <th>4</th>\n",
       "      <td>10002</td>\n",
       "      <td>special_offer</td>\n",
       "      <td>3503</td>\n",
       "    </tr>\n",
       "    <tr>\n",
       "      <th>5</th>\n",
       "      <td>10003</td>\n",
       "      <td>special_offer</td>\n",
       "      <td>4567</td>\n",
       "    </tr>\n",
       "  </tbody>\n",
       "</table>\n",
       "</div>"
      ],
      "text/plain": [
       "   cust_id           type  monetary\n",
       "0    10001         normal      3608\n",
       "1    10002         normal      1894\n",
       "2    10003         normal         0\n",
       "3    10001  special_offer       420\n",
       "4    10002  special_offer      3503\n",
       "5    10003  special_offer      4567"
      ]
     },
     "execution_count": 3,
     "metadata": {},
     "output_type": "execute_result"
    }
   ],
   "source": [
    "table2 = pd.melt(table1.reset_index(),id_vars='cust_id',value_vars=['normal','special_offer'],value_name='monetary',var_name='type')\n",
    "table2"
   ]
  },
  {
   "cell_type": "markdown",
   "metadata": {},
   "source": [
    "# cut"
   ]
  },
  {
   "cell_type": "code",
   "execution_count": 13,
   "metadata": {
    "ExecuteTime": {
     "end_time": "2019-04-24T07:55:52.559270Z",
     "start_time": "2019-04-24T07:55:52.548327Z"
    }
   },
   "outputs": [
    {
     "data": {
      "text/plain": [
       "monetary\n",
       "(-0.001, 2698.5]    3\n",
       "(2698.5, 4567.0]    3\n",
       "Name: monetary, dtype: int64"
      ]
     },
     "execution_count": 13,
     "metadata": {},
     "output_type": "execute_result"
    }
   ],
   "source": [
    "c = pd.cut(table2.monetary,bins=table2.monetary.quantile([0,0.5,1]),include_lowest=True)\n",
    "c\n",
    "table2.monetary.groupby(c).count()"
   ]
  },
  {
   "cell_type": "code",
   "execution_count": 14,
   "metadata": {
    "ExecuteTime": {
     "end_time": "2019-04-24T07:56:13.762888Z",
     "start_time": "2019-04-24T07:56:13.749924Z"
    }
   },
   "outputs": [
    {
     "data": {
      "text/plain": [
       "0    (3503.0, 3608.0]\n",
       "1     (420.0, 1894.0]\n",
       "2     (-0.001, 420.0]\n",
       "3     (-0.001, 420.0]\n",
       "4    (1894.0, 3503.0]\n",
       "5    (3608.0, 4567.0]\n",
       "Name: monetary, dtype: category\n",
       "Categories (5, interval[float64]): [(-0.001, 420.0] < (420.0, 1894.0] < (1894.0, 3503.0] < (3503.0, 3608.0] < (3608.0, 4567.0]]"
      ]
     },
     "execution_count": 14,
     "metadata": {},
     "output_type": "execute_result"
    },
    {
     "data": {
      "text/plain": [
       "monetary\n",
       "(-0.001, 420.0]     2\n",
       "(420.0, 1894.0]     1\n",
       "(1894.0, 3503.0]    1\n",
       "(3503.0, 3608.0]    1\n",
       "(3608.0, 4567.0]    1\n",
       "Name: monetary, dtype: int64"
      ]
     },
     "execution_count": 14,
     "metadata": {},
     "output_type": "execute_result"
    }
   ],
   "source": [
    "cq = pd.qcut(table2.monetary,q=5)\n",
    "cq\n",
    "table2.monetary.groupby(cq).count()"
   ]
  },
  {
   "cell_type": "markdown",
   "metadata": {},
   "source": [
    "# RFM"
   ]
  },
  {
   "cell_type": "code",
   "execution_count": 27,
   "metadata": {
    "ExecuteTime": {
     "end_time": "2019-04-24T08:14:14.181459Z",
     "start_time": "2019-04-24T08:14:13.819257Z"
    }
   },
   "outputs": [
    {
     "data": {
      "text/html": [
       "<div>\n",
       "<style scoped>\n",
       "    .dataframe tbody tr th:only-of-type {\n",
       "        vertical-align: middle;\n",
       "    }\n",
       "\n",
       "    .dataframe tbody tr th {\n",
       "        vertical-align: top;\n",
       "    }\n",
       "\n",
       "    .dataframe thead th {\n",
       "        text-align: right;\n",
       "    }\n",
       "</style>\n",
       "<table border=\"1\" class=\"dataframe\">\n",
       "  <thead>\n",
       "    <tr style=\"text-align: right;\">\n",
       "      <th></th>\n",
       "      <th>transID</th>\n",
       "      <th>cumid</th>\n",
       "      <th>time</th>\n",
       "      <th>amount</th>\n",
       "      <th>type_label</th>\n",
       "      <th>type</th>\n",
       "    </tr>\n",
       "  </thead>\n",
       "  <tbody>\n",
       "    <tr>\n",
       "      <th>0</th>\n",
       "      <td>9407</td>\n",
       "      <td>10001</td>\n",
       "      <td>2009-06-14 17:58:34</td>\n",
       "      <td>199.0</td>\n",
       "      <td>正常</td>\n",
       "      <td>Normal</td>\n",
       "    </tr>\n",
       "    <tr>\n",
       "      <th>1</th>\n",
       "      <td>9625</td>\n",
       "      <td>10001</td>\n",
       "      <td>2009-06-16 15:09:13</td>\n",
       "      <td>369.0</td>\n",
       "      <td>正常</td>\n",
       "      <td>Normal</td>\n",
       "    </tr>\n",
       "    <tr>\n",
       "      <th>2</th>\n",
       "      <td>11837</td>\n",
       "      <td>10001</td>\n",
       "      <td>2009-07-01 14:50:36</td>\n",
       "      <td>369.0</td>\n",
       "      <td>正常</td>\n",
       "      <td>Normal</td>\n",
       "    </tr>\n",
       "    <tr>\n",
       "      <th>3</th>\n",
       "      <td>26629</td>\n",
       "      <td>10001</td>\n",
       "      <td>2009-12-14 18:05:32</td>\n",
       "      <td>359.0</td>\n",
       "      <td>正常</td>\n",
       "      <td>Normal</td>\n",
       "    </tr>\n",
       "    <tr>\n",
       "      <th>4</th>\n",
       "      <td>30850</td>\n",
       "      <td>10001</td>\n",
       "      <td>2010-04-12 13:02:20</td>\n",
       "      <td>399.0</td>\n",
       "      <td>正常</td>\n",
       "      <td>Normal</td>\n",
       "    </tr>\n",
       "  </tbody>\n",
       "</table>\n",
       "</div>"
      ],
      "text/plain": [
       "   transID  cumid                time  amount type_label    type\n",
       "0     9407  10001 2009-06-14 17:58:34   199.0         正常  Normal\n",
       "1     9625  10001 2009-06-16 15:09:13   369.0         正常  Normal\n",
       "2    11837  10001 2009-07-01 14:50:36   369.0         正常  Normal\n",
       "3    26629  10001 2009-12-14 18:05:32   359.0         正常  Normal\n",
       "4    30850  10001 2010-04-12 13:02:20   399.0         正常  Normal"
      ]
     },
     "execution_count": 27,
     "metadata": {},
     "output_type": "execute_result"
    }
   ],
   "source": [
    "def dateparse(x):\n",
    "    return pd.datetime.strptime(x, '%d%b%y:%H:%M:%S')\n",
    "\n",
    "data = pd.read_csv('./RFM_TRAD_FLOW.csv',encoding='gbk',parse_dates=['time'],date_parser=dateparse)\n",
    "data[:5]"
   ]
  },
  {
   "cell_type": "code",
   "execution_count": 37,
   "metadata": {
    "ExecuteTime": {
     "end_time": "2019-04-24T08:28:35.459666Z",
     "start_time": "2019-04-24T08:28:35.438722Z"
    }
   },
   "outputs": [
    {
     "data": {
      "text/html": [
       "<div>\n",
       "<style scoped>\n",
       "    .dataframe tbody tr th:only-of-type {\n",
       "        vertical-align: middle;\n",
       "    }\n",
       "\n",
       "    .dataframe tbody tr th {\n",
       "        vertical-align: top;\n",
       "    }\n",
       "\n",
       "    .dataframe thead th {\n",
       "        text-align: right;\n",
       "    }\n",
       "</style>\n",
       "<table border=\"1\" class=\"dataframe\">\n",
       "  <thead>\n",
       "    <tr style=\"text-align: right;\">\n",
       "      <th></th>\n",
       "      <th>cumid</th>\n",
       "      <th>recency</th>\n",
       "      <th>frequency</th>\n",
       "      <th>monetary</th>\n",
       "    </tr>\n",
       "  </thead>\n",
       "  <tbody>\n",
       "    <tr>\n",
       "      <th>0</th>\n",
       "      <td>10001</td>\n",
       "      <td>2010-09-17 12:47:43</td>\n",
       "      <td>27</td>\n",
       "      <td>3334.0</td>\n",
       "    </tr>\n",
       "    <tr>\n",
       "      <th>1</th>\n",
       "      <td>10002</td>\n",
       "      <td>2010-07-03 11:43:16</td>\n",
       "      <td>18</td>\n",
       "      <td>1652.0</td>\n",
       "    </tr>\n",
       "    <tr>\n",
       "      <th>2</th>\n",
       "      <td>10003</td>\n",
       "      <td>2010-08-28 16:04:25</td>\n",
       "      <td>25</td>\n",
       "      <td>3435.0</td>\n",
       "    </tr>\n",
       "  </tbody>\n",
       "</table>\n",
       "</div>"
      ],
      "text/plain": [
       "   cumid             recency  frequency  monetary\n",
       "0  10001 2010-09-17 12:47:43         27    3334.0\n",
       "1  10002 2010-07-03 11:43:16         18    1652.0\n",
       "2  10003 2010-08-28 16:04:25         25    3435.0"
      ]
     },
     "execution_count": 37,
     "metadata": {},
     "output_type": "execute_result"
    }
   ],
   "source": [
    "RFM = data.groupby('cumid').agg({'time':'max','amount':['count','sum']}).reset_index()\n",
    "RFM.columns = ['cumid','recency','frequency','monetary']\n",
    "RFM[:3]"
   ]
  },
  {
   "cell_type": "code",
   "execution_count": 46,
   "metadata": {
    "ExecuteTime": {
     "end_time": "2019-04-24T08:42:25.411508Z",
     "start_time": "2019-04-24T08:42:25.388538Z"
    }
   },
   "outputs": [
    {
     "data": {
      "text/html": [
       "<div>\n",
       "<style scoped>\n",
       "    .dataframe tbody tr th:only-of-type {\n",
       "        vertical-align: middle;\n",
       "    }\n",
       "\n",
       "    .dataframe tbody tr th {\n",
       "        vertical-align: top;\n",
       "    }\n",
       "\n",
       "    .dataframe thead th {\n",
       "        text-align: right;\n",
       "    }\n",
       "</style>\n",
       "<table border=\"1\" class=\"dataframe\">\n",
       "  <thead>\n",
       "    <tr style=\"text-align: right;\">\n",
       "      <th>type</th>\n",
       "      <th>cumid</th>\n",
       "      <th>Normal</th>\n",
       "      <th>Presented</th>\n",
       "      <th>Special_offer</th>\n",
       "      <th>returned_goods</th>\n",
       "      <th>spe_ratio</th>\n",
       "    </tr>\n",
       "  </thead>\n",
       "  <tbody>\n",
       "    <tr>\n",
       "      <th>150</th>\n",
       "      <td>10151</td>\n",
       "      <td>765.0</td>\n",
       "      <td>0</td>\n",
       "      <td>870.0</td>\n",
       "      <td>0.0</td>\n",
       "      <td>0.532110</td>\n",
       "    </tr>\n",
       "    <tr>\n",
       "      <th>932</th>\n",
       "      <td>40033</td>\n",
       "      <td>1206.0</td>\n",
       "      <td>0</td>\n",
       "      <td>761.0</td>\n",
       "      <td>-848.0</td>\n",
       "      <td>0.386884</td>\n",
       "    </tr>\n",
       "    <tr>\n",
       "      <th>1135</th>\n",
       "      <td>40236</td>\n",
       "      <td>1155.0</td>\n",
       "      <td>0</td>\n",
       "      <td>691.0</td>\n",
       "      <td>-793.0</td>\n",
       "      <td>0.374323</td>\n",
       "    </tr>\n",
       "    <tr>\n",
       "      <th>824</th>\n",
       "      <td>30225</td>\n",
       "      <td>1475.0</td>\n",
       "      <td>0</td>\n",
       "      <td>738.0</td>\n",
       "      <td>-301.0</td>\n",
       "      <td>0.333484</td>\n",
       "    </tr>\n",
       "    <tr>\n",
       "      <th>367</th>\n",
       "      <td>20068</td>\n",
       "      <td>1631.0</td>\n",
       "      <td>0</td>\n",
       "      <td>731.0</td>\n",
       "      <td>-239.0</td>\n",
       "      <td>0.309483</td>\n",
       "    </tr>\n",
       "  </tbody>\n",
       "</table>\n",
       "</div>"
      ],
      "text/plain": [
       "type  cumid  Normal  Presented  Special_offer  returned_goods  spe_ratio\n",
       "150   10151   765.0          0          870.0             0.0   0.532110\n",
       "932   40033  1206.0          0          761.0          -848.0   0.386884\n",
       "1135  40236  1155.0          0          691.0          -793.0   0.374323\n",
       "824   30225  1475.0          0          738.0          -301.0   0.333484\n",
       "367   20068  1631.0          0          731.0          -239.0   0.309483"
      ]
     },
     "execution_count": 46,
     "metadata": {},
     "output_type": "execute_result"
    }
   ],
   "source": [
    "M_pivot = pd.pivot_table(data,index='cumid',columns='type',values='amount',aggfunc='sum',fill_value=0).reset_index()\n",
    "M_pivot['spe_ratio'] = M_pivot.Special_offer/(M_pivot.Special_offer + M_pivot.Normal)\n",
    "M_pivot.sort_values(by='spe_ratio',ascending=False)[:5]"
   ]
  },
  {
   "cell_type": "code",
   "execution_count": null,
   "metadata": {},
   "outputs": [],
   "source": []
  }
 ],
 "metadata": {
  "hide_input": false,
  "kernelspec": {
   "display_name": "Python 3",
   "language": "python",
   "name": "python3"
  },
  "language_info": {
   "codemirror_mode": {
    "name": "ipython",
    "version": 3
   },
   "file_extension": ".py",
   "mimetype": "text/x-python",
   "name": "python",
   "nbconvert_exporter": "python",
   "pygments_lexer": "ipython3",
   "version": "3.6.8"
  },
  "nbTranslate": {
   "displayLangs": [
    "*"
   ],
   "hotkey": "alt-t",
   "langInMainMenu": true,
   "sourceLang": "en",
   "targetLang": "zh-cn",
   "useGoogleTranslate": true
  },
  "toc": {
   "base_numbering": 1,
   "nav_menu": {},
   "number_sections": true,
   "sideBar": true,
   "skip_h1_title": false,
   "title_cell": "Table of Contents",
   "title_sidebar": "Contents",
   "toc_cell": false,
   "toc_position": {},
   "toc_section_display": true,
   "toc_window_display": false
  },
  "varInspector": {
   "cols": {
    "lenName": 16,
    "lenType": 16,
    "lenVar": 40
   },
   "kernels_config": {
    "python": {
     "delete_cmd_postfix": "",
     "delete_cmd_prefix": "del ",
     "library": "var_list.py",
     "varRefreshCmd": "print(var_dic_list())"
    },
    "r": {
     "delete_cmd_postfix": ") ",
     "delete_cmd_prefix": "rm(",
     "library": "var_list.r",
     "varRefreshCmd": "cat(var_dic_list()) "
    }
   },
   "types_to_exclude": [
    "module",
    "function",
    "builtin_function_or_method",
    "instance",
    "_Feature"
   ],
   "window_display": false
  }
 },
 "nbformat": 4,
 "nbformat_minor": 2
}
